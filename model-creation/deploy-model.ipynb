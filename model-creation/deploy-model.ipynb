{
 "cells": [
  {
   "cell_type": "code",
   "execution_count": 10,
   "metadata": {},
   "outputs": [],
   "source": [
    "from azure.identity import DefaultAzureCredential, InteractiveBrowserCredential\n",
    "\n",
    "try:\n",
    "    credential = DefaultAzureCredential()\n",
    "    credential.get_token(\"https://management.azure.com/.default\")\n",
    "except Exception as e:\n",
    "    credential = InteractiveBrowserCredential()"
   ]
  },
  {
   "cell_type": "code",
   "execution_count": 11,
   "metadata": {},
   "outputs": [
    {
     "name": "stderr",
     "output_type": "stream",
     "text": [
      "Found the config file in: .\\config.json\n"
     ]
    }
   ],
   "source": [
    "from azure.ai.ml import MLClient\n",
    "\n",
    "ml_client = MLClient.from_config(credential=credential)"
   ]
  },
  {
   "cell_type": "markdown",
   "metadata": {},
   "source": [
    "Deploy to online endpoint"
   ]
  },
  {
   "cell_type": "code",
   "execution_count": 12,
   "metadata": {},
   "outputs": [],
   "source": [
    "from azure.ai.ml.entities import ManagedOnlineEndpoint\n",
    "import datetime\n",
    "\n",
    "online_endpoint_name = \"endpoint-\" + datetime.datetime.now().strftime(\"%m%d%H%M\")\n",
    "\n",
    "endpoint = ManagedOnlineEndpoint(\n",
    "    name=online_endpoint_name,\n",
    "    description=\"Online endpoint for model deployment\",\n",
    "    auth_mode=\"key\"\n",
    ")"
   ]
  },
  {
   "cell_type": "code",
   "execution_count": 13,
   "metadata": {},
   "outputs": [
    {
     "data": {
      "text/plain": [
       "ManagedOnlineEndpoint({'public_network_access': 'Enabled', 'provisioning_state': 'Succeeded', 'scoring_uri': 'https://endpoint-01051009.eastus.inference.ml.azure.com/score', 'openapi_uri': 'https://endpoint-01051009.eastus.inference.ml.azure.com/swagger.json', 'name': 'endpoint-01051009', 'description': 'Online endpoint for model deployment', 'tags': {}, 'properties': {'azureml.onlineendpointid': '/subscriptions/6e5b4e5f-b5c5-4461-ae17-7ae3bc1a747e/resourcegroups/rg-app-with-model-859731b6b1ac4414b1/providers/microsoft.machinelearningservices/workspaces/mlw-859731b6b1ac4414b1/onlineendpoints/endpoint-01051009', 'AzureAsyncOperationUri': 'https://management.azure.com/subscriptions/6e5b4e5f-b5c5-4461-ae17-7ae3bc1a747e/providers/Microsoft.MachineLearningServices/locations/eastus/mfeOperationsStatus/oe:94a49fe4-c295-4222-89b7-f0b90eafa87a:e55c289c-cf25-40c6-9d6b-6240d315711a?api-version=2022-02-01-preview'}, 'print_as_yaml': True, 'id': '/subscriptions/6e5b4e5f-b5c5-4461-ae17-7ae3bc1a747e/resourceGroups/rg-app-with-model-859731b6b1ac4414b1/providers/Microsoft.MachineLearningServices/workspaces/mlw-859731b6b1ac4414b1/onlineEndpoints/endpoint-01051009', 'Resource__source_path': None, 'base_path': 'c:\\\\Users\\\\ciroalfonsom\\\\learning\\\\diabetes-prediction-app\\\\model-creation', 'creation_context': None, 'serialize': <msrest.serialization.Serializer object at 0x00000146CD745760>, 'auth_mode': 'key', 'location': 'eastus', 'identity': <azure.ai.ml.entities._credentials.IdentityConfiguration object at 0x00000146CD745940>, 'traffic': {}, 'mirror_traffic': {}, 'kind': 'Managed'})"
      ]
     },
     "execution_count": 13,
     "metadata": {},
     "output_type": "execute_result"
    }
   ],
   "source": [
    "ml_client.begin_create_or_update(endpoint).result()"
   ]
  },
  {
   "cell_type": "code",
   "execution_count": 14,
   "metadata": {},
   "outputs": [],
   "source": [
    "from azure.ai.ml.entities import Model, ManagedOnlineDeployment\n",
    "from azure.ai.ml.constants import AssetTypes\n",
    "\n",
    "model = Model(\n",
    "    path=\"./mlflow-model\",\n",
    "    type=AssetTypes.MLFLOW_MODEL,\n",
    "    description=\"diabetes mlflow model\"\n",
    ")"
   ]
  },
  {
   "cell_type": "code",
   "execution_count": 15,
   "metadata": {},
   "outputs": [],
   "source": [
    "deployment_name = \"diabetes-model-deployment\"\n",
    "\n",
    "deployment = ManagedOnlineDeployment(\n",
    "    name=deployment_name,\n",
    "    endpoint_name=online_endpoint_name,\n",
    "    model=model,\n",
    "    instance_type=\"Standard_DS1_v2\",\n",
    "    instance_count=1\n",
    ")"
   ]
  },
  {
   "cell_type": "code",
   "execution_count": 16,
   "metadata": {},
   "outputs": [
    {
     "name": "stderr",
     "output_type": "stream",
     "text": [
      "Instance type Standard_DS1_v2 may be too small for compute resources. Minimum recommended compute SKU is Standard_DS3_v2 for general purpose endpoints. Learn more about SKUs here: https://learn.microsoft.com/en-us/azure/machine-learning/referencemanaged-online-endpoints-vm-sku-list\n",
      "Check: endpoint endpoint-01051009 exists\n"
     ]
    },
    {
     "name": "stdout",
     "output_type": "stream",
     "text": [
      "............................................................................................................."
     ]
    },
    {
     "data": {
      "text/plain": [
       "ManagedOnlineDeployment({'private_network_connection': None, 'provisioning_state': 'Succeeded', 'endpoint_name': 'endpoint-01051009', 'type': 'Managed', 'name': 'diabetes-model-deployment', 'description': None, 'tags': {}, 'properties': {'AzureAsyncOperationUri': 'https://management.azure.com/subscriptions/6e5b4e5f-b5c5-4461-ae17-7ae3bc1a747e/providers/Microsoft.MachineLearningServices/locations/eastus/mfeOperationsStatus/od:94a49fe4-c295-4222-89b7-f0b90eafa87a:09a54f55-db21-4ab2-ae18-cb364a28feb4?api-version=2023-04-01-preview'}, 'print_as_yaml': True, 'id': '/subscriptions/6e5b4e5f-b5c5-4461-ae17-7ae3bc1a747e/resourceGroups/rg-app-with-model-859731b6b1ac4414b1/providers/Microsoft.MachineLearningServices/workspaces/mlw-859731b6b1ac4414b1/onlineEndpoints/endpoint-01051009/deployments/diabetes-model-deployment', 'Resource__source_path': None, 'base_path': 'c:\\\\Users\\\\ciroalfonsom\\\\learning\\\\diabetes-prediction-app\\\\model-creation', 'creation_context': None, 'serialize': <msrest.serialization.Serializer object at 0x00000146CD743FD0>, 'model': '/subscriptions/6e5b4e5f-b5c5-4461-ae17-7ae3bc1a747e/resourceGroups/rg-app-with-model-859731b6b1ac4414b1/providers/Microsoft.MachineLearningServices/workspaces/mlw-859731b6b1ac4414b1/models/981d864e0a8a9ce3829ce3b63ed7e6ce/versions/1', 'code_configuration': None, 'environment': None, 'environment_variables': {}, 'app_insights_enabled': False, 'scale_settings': <azure.ai.ml.entities._deployment.scale_settings.DefaultScaleSettings object at 0x00000146CD7EAF10>, 'request_settings': <azure.ai.ml.entities._deployment.deployment_settings.OnlineRequestSettings object at 0x00000146CD7EA760>, 'liveness_probe': <azure.ai.ml.entities._deployment.deployment_settings.ProbeSettings object at 0x00000146CD7EA3D0>, 'readiness_probe': <azure.ai.ml.entities._deployment.deployment_settings.ProbeSettings object at 0x00000146CD743970>, 'instance_count': 1, 'arm_type': 'online_deployment', 'model_mount_path': None, 'instance_type': 'Standard_DS1_v2', 'data_collector': None, 'egress_public_network_access': 'Enabled'})"
      ]
     },
     "execution_count": 16,
     "metadata": {},
     "output_type": "execute_result"
    }
   ],
   "source": [
    "ml_client.online_deployments.begin_create_or_update(deployment).result()"
   ]
  },
  {
   "cell_type": "code",
   "execution_count": 17,
   "metadata": {},
   "outputs": [
    {
     "name": "stdout",
     "output_type": "stream",
     "text": [
      "[1]\n"
     ]
    }
   ],
   "source": [
    "response = ml_client.online_endpoints.invoke(\n",
    "    endpoint_name=online_endpoint_name,\n",
    "    deployment_name=deployment_name,\n",
    "    request_file=\"sample-data.json\"\n",
    ")\n",
    "\n",
    "print(response)"
   ]
  }
 ],
 "metadata": {
  "kernelspec": {
   "display_name": ".venv",
   "language": "python",
   "name": "python3"
  },
  "language_info": {
   "codemirror_mode": {
    "name": "ipython",
    "version": 3
   },
   "file_extension": ".py",
   "mimetype": "text/x-python",
   "name": "python",
   "nbconvert_exporter": "python",
   "pygments_lexer": "ipython3",
   "version": "3.9.13"
  },
  "orig_nbformat": 4
 },
 "nbformat": 4,
 "nbformat_minor": 2
}
